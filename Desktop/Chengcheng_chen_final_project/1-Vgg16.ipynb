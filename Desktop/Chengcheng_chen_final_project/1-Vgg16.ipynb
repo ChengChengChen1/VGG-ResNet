{
 "cells": [
  {
   "cell_type": "code",
   "execution_count": 1,
   "id": "a8d9d979",
   "metadata": {},
   "outputs": [],
   "source": [
    "\n",
    "import matplotlib.pyplot as plt\n",
    "import torch\n",
    "import torch.nn as nn\n",
    "import torch.optim as optim\n",
    "from torchvision import datasets, transforms, models\n",
    "from torch.utils.data import DataLoader\n",
    "import random\n",
    "import numpy as np\n",
    "import tensorflow as tf\n"
   ]
  },
  {
   "cell_type": "code",
   "execution_count": 2,
   "id": "76893ca8",
   "metadata": {},
   "outputs": [],
   "source": [
    "import tensorflow as tf\n",
    "import numpy as np\n",
    "\n",
    "tf.random.set_seed(42)\n",
    "np.random.seed(42)"
   ]
  },
  {
   "cell_type": "markdown",
   "id": "2e8377e4",
   "metadata": {},
   "source": [
    "Data preprocessing\n",
    "Setting up transformation operations for the training and validation sets can help the model learn and generalize better."
   ]
  },
  {
   "cell_type": "code",
   "execution_count": 3,
   "id": "60ffdb28",
   "metadata": {},
   "outputs": [],
   "source": [
    "train_transforms = transforms.Compose([\n",
    "    transforms.RandomResizedCrop(224),\n",
    "    transforms.RandomHorizontalFlip(),  \n",
    "    transforms.ToTensor(),\n",
    "    transforms.Normalize([0.485, 0.456, 0.406], [0.229, 0.224, 0.225])\n",
    "])\n",
    "\n",
    "val_transforms = transforms.Compose([\n",
    "    transforms.RandomResizedCrop(224),\n",
    "    transforms.RandomHorizontalFlip(),\n",
    "    transforms.ToTensor(),\n",
    "    transforms.Normalize([0.485, 0.456, 0.406], [0.229, 0.224, 0.225])\n",
    "])"
   ]
  },
  {
   "cell_type": "markdown",
   "id": "03787c38",
   "metadata": {},
   "source": [
    "Load Dataset"
   ]
  },
  {
   "cell_type": "code",
   "execution_count": 4,
   "id": "55b13cad",
   "metadata": {},
   "outputs": [],
   "source": [
    "train_dir = 'train-directory'\n",
    "val_dir = 'validation-directory'\n",
    "\n",
    "train_dataset = datasets.ImageFolder(train_dir, transform=train_transforms)\n",
    "val_dataset = datasets.ImageFolder(val_dir, transform=val_transforms)\n",
    "\n",
    "train_loader = DataLoader(train_dataset, batch_size=8, shuffle=True)\n",
    "val_loader = DataLoader(val_dataset, batch_size=8, shuffle=False)\n"
   ]
  },
  {
   "cell_type": "code",
   "execution_count": 5,
   "id": "d6a7ca98",
   "metadata": {},
   "outputs": [
    {
     "name": "stdout",
     "output_type": "stream",
     "text": [
      "Number of training set images: 300\n",
      "Number of Validation set images: 60\n"
     ]
    }
   ],
   "source": [
    "print(f\"Number of training set images: {len(train_dataset)}\")\n",
    "print(f\"Number of Validation set images: {len(val_dataset)}\")"
   ]
  },
  {
   "cell_type": "markdown",
   "id": "78f592b8",
   "metadata": {},
   "source": [
    "Loads the pre-trained VGG16 model and replaces its classifiers to fit the binary classification problem of hand recognition (left or right handed).\n",
    "\n",
    "1 Class for ModifiedVGG: This class is inherited from PyTorch's nn.Module. provides any functionality needed\n",
    "original_vgg = models.vgg16(pretrained=True): this line of code loads a pre-trained VGG-16 model. pretrained=True means that the model is loaded with weights pre-trained on the ImageNet dataset.\n",
    "\n",
    "2 ‘param’  iterates through the feature extraction part of the VGG-16 model  (i.e., the convolutional and activation layers) and forbids updating their weights during training. The reason for this is that the pre-trained feature extractor is good enough that it usually does not need to be tuned for a specific small dataset, and this also reduces training time and avoids overfitting.\n",
    "\n",
    "3 Replace the original classifier layer\n",
    "num_features = original_vgg.classifier[0].in_features: get the number of input features for the first layer of the original classifier.\n",
    "Next, use nn.Sequential to create a new classifier sequence that contains:\n",
    "nn.Linear(num_features, 512): a fully-connected layer that transforms the input features into 512 features.\n",
    "nn.ReLU(True): an activation function that adds nonlinearity to help the network learn complex patterns.\n",
    "nn.Dropout(): randomly drops a portion of the neuron's output, used to reduce overfitting.\n",
    "nn.Linear(512, 2): the last fully connected layer, outputs the scores for both categories (left-handed and right-handed).\n",
    "nn.LogSoftmax(dim=1): applies LogSoftmax on the last dimension, which is used to compute the log probability of the two categories for subsequent loss computation.\n",
    "\n",
    "\n",
    "4 The forward function defines how to perform the forward computation of the model. When the model receives input data x, the data is processed through a modified VGG-16 network, which then outputs the classification results. In PyTorch, custom models require an override of the forward method to define the model's computational flow.\n",
    "\n",
    "so, the ModifiedVGG class transforms the pre-trained VGG-16 model into a model for a specific binary classification task (left- and right-handed recognition) by freezing the weights of the feature layer and replacing the classifier layer. Such a modification allows the model to be trained quickly and efficiently on the new task."
   ]
  },
  {
   "cell_type": "code",
   "execution_count": 74,
   "id": "5bc79389",
   "metadata": {},
   "outputs": [],
   "source": [
    "class ModifiedVGG(nn.Module):\n",
    "    def __init__(self):\n",
    "        super(ModifiedVGG, self).__init__()\n",
    "        original_vgg = models.vgg16(pretrained=True)\n",
    "        \n",
    "        #freezing the weights of the feature layer \n",
    "        for param in original_vgg.features.parameters():\n",
    "            param.requires_grad = False\n",
    "        #replacing the classifier layer\n",
    "        num_features = original_vgg.classifier[0].in_features\n",
    "        original_vgg.classifier = nn.Sequential(\n",
    "            nn.Linear(num_features, 512),\n",
    "            nn.ReLU(True),\n",
    "            nn.Dropout(0.5),  # plus Dropout\n",
    "            nn.Linear(512, 512),\n",
    "            nn.ReLU(True),\n",
    "            nn.Dropout(0.5),\n",
    "            nn.Linear(512, 2),  # Two classifications, left-handed and right-handed\n",
    "            nn.LogSoftmax(dim=1)\n",
    "        )\n",
    "        self.vgg = original_vgg\n",
    "\n",
    "    def forward(self, x):\n",
    "        return self.vgg(x)\n"
   ]
  },
  {
   "cell_type": "markdown",
   "id": "9b9abcc0",
   "metadata": {},
   "source": [
    "Set up the optimizer and loss function for model training."
   ]
  },
  {
   "cell_type": "code",
   "execution_count": 75,
   "id": "771739f1",
   "metadata": {},
   "outputs": [
    {
     "name": "stdout",
     "output_type": "stream",
     "text": [
      "Epoch 1, Train Loss: 0.6498, Train Accuracy: 58.67%\n",
      "Epoch 1, Val Loss: 0.5371, Val Accuracy: 81.67%\n",
      "Epoch 2, Train Loss: 0.5227, Train Accuracy: 74.67%\n",
      "Epoch 2, Val Loss: 0.4527, Val Accuracy: 76.67%\n",
      "Epoch 3, Train Loss: 0.3983, Train Accuracy: 85.33%\n",
      "Epoch 3, Val Loss: 0.2502, Val Accuracy: 91.67%\n",
      "Epoch 4, Train Loss: 0.2673, Train Accuracy: 89.33%\n",
      "Epoch 4, Val Loss: 0.2678, Val Accuracy: 81.67%\n",
      "Epoch 5, Train Loss: 0.2436, Train Accuracy: 90.33%\n",
      "Epoch 5, Val Loss: 0.3240, Val Accuracy: 86.67%\n",
      "Epoch 6, Train Loss: 0.2605, Train Accuracy: 89.00%\n",
      "Epoch 6, Val Loss: 0.1754, Val Accuracy: 98.33%\n",
      "Epoch 7, Train Loss: 0.1932, Train Accuracy: 92.33%\n",
      "Epoch 7, Val Loss: 0.1496, Val Accuracy: 91.67%\n",
      "Epoch 8, Train Loss: 0.1652, Train Accuracy: 94.00%\n",
      "Epoch 8, Val Loss: 0.2263, Val Accuracy: 90.00%\n",
      "Epoch 9, Train Loss: 0.1824, Train Accuracy: 94.00%\n",
      "Epoch 9, Val Loss: 0.1757, Val Accuracy: 91.67%\n",
      "Epoch 10, Train Loss: 0.1408, Train Accuracy: 94.67%\n",
      "Epoch 10, Val Loss: 0.1969, Val Accuracy: 91.67%\n"
     ]
    },
    {
     "data": {
      "image/png": "[encoded data removed]",
      "text/plain": [
       "<Figure size 864x360 with 2 Axes>"
      ]
     },
     "metadata": {
      "needs_background": "light"
     },
     "output_type": "display_data"
    }
   ],
   "source": [
    "def train_model(model, train_loader, val_loader, optimizer, loss_fn, epochs=10):\n",
    "    train_losses, val_losses, train_accuracies, val_accuracies = [], [], [], []\n",
    "    \n",
    "    for epoch in range(epochs):\n",
    "        model.train()\n",
    "        train_loss, train_correct, train_total = 0, 0, 0\n",
    "        \n",
    "        for images, labels in train_loader:\n",
    "            images, labels = images.to(device), labels.to(device)\n",
    "            optimizer.zero_grad()\n",
    "            outputs = model(images)\n",
    "            loss = loss_fn(outputs, labels)\n",
    "            loss.backward()\n",
    "            optimizer.step()\n",
    "            \n",
    "            train_loss += loss.item() * images.size(0)\n",
    "            _, predicted = torch.max(outputs.data, 1)\n",
    "            train_total += labels.size(0)\n",
    "            train_correct += (predicted == labels).sum().item()\n",
    "        \n",
    "        train_losses.append(train_loss / train_total)\n",
    "        train_accuracies.append(100 * train_correct / train_total)\n",
    "        print(f'Epoch {epoch+1}, Train Loss: {train_losses[-1]:.4f}, Train Accuracy: {train_accuracies[-1]:.2f}%')\n",
    "\n",
    "        model.eval()\n",
    "        val_loss, val_correct, val_total = 0, 0, 0\n",
    "        with torch.no_grad():\n",
    "            for images, labels in val_loader:\n",
    "                images, labels = images.to(device), labels.to(device)\n",
    "                outputs = model(images)\n",
    "                loss = loss_fn(outputs, labels)\n",
    "                val_loss += loss.item() * images.size(0)\n",
    "                _, predicted = torch.max(outputs.data, 1)\n",
    "                val_total += labels.size(0)\n",
    "                val_correct += (predicted == labels).sum().item()\n",
    "        \n",
    "        val_losses.append(val_loss / val_total)\n",
    "        val_accuracies.append(100 * val_correct / val_total)\n",
    "        print(f'Epoch {epoch+1}, Val Loss: {val_losses[-1]:.4f}, Val Accuracy: {val_accuracies[-1]:.2f}%')    \n",
    "\n",
    "    plt.figure(figsize=(12, 5))\n",
    "    plt.subplot(1, 2, 1)\n",
    "    plt.plot(train_losses, label='Train Loss')\n",
    "    plt.plot(val_losses, label='Validation Loss')\n",
    "    plt.title('Loss')\n",
    "    plt.xlabel('Epoch')\n",
    "    plt.ylabel('Loss')\n",
    "    plt.legend()\n",
    "\n",
    "    plt.subplot(1, 2, 2)\n",
    "    plt.plot(train_accuracies, label='Train Accuracy')\n",
    "    plt.plot(val_accuracies, label='Validation Accuracy')\n",
    "    plt.title('Accuracy')\n",
    "    plt.xlabel('Epoch')\n",
    "    plt.ylabel('Accuracy (%)')\n",
    "    plt.legend()\n",
    "    \n",
    "    plt.show()\n",
    "\n",
    "# Execute training and visualization\n",
    "device = torch.device(\"cuda\" if torch.cuda.is_available() else \"cpu\")\n",
    "model = ModifiedVGG().to(device)\n",
    "optimizer = optim.Adam(model.parameters(), lr=0.0001)\n",
    "loss_fn = nn.NLLLoss()\n",
    "train_model(model, train_loader, val_loader, optimizer, loss_fn)\n",
    "\n"
   ]
  }
 ],
 "metadata": {
  "kernelspec": {
   "display_name": "Python 3 (ipykernel)",
   "language": "python",
   "name": "python3"
  },
  "language_info": {
   "codemirror_mode": {
    "name": "ipython",
    "version": 3
   },
   "file_extension": ".py",
   "mimetype": "text/x-python",
   "name": "python",
   "nbconvert_exporter": "python",
   "pygments_lexer": "ipython3",
   "version": "3.9.12"
  }
 },
 "nbformat": 4,
 "nbformat_minor": 5
}
